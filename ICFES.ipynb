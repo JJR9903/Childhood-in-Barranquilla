{
 "cells": [
  {
   "cell_type": "markdown",
   "metadata": {},
   "source": [
    "NAME: ICFES <br>\n",
    "DESCRIPTION: data import and cleaning of ICFES administrative data of their standarized test in Colombia<br>\n",
    "PROJECT: Childhood in Barranquilla - Econometria Consultores<br>\n",
    "AUTHOR: Juan José Rincón  <br>"
   ]
  },
  {
   "cell_type": "code",
   "execution_count": 1,
   "metadata": {},
   "outputs": [],
   "source": [
    "import pandas as pd\n",
    "import numpy as np\n",
    "import os\n",
    "from re import sub\n",
    "from sklearn import preprocessing\n",
    "from statistics import mean, stdev"
   ]
  },
  {
   "cell_type": "code",
   "execution_count": 2,
   "metadata": {},
   "outputs": [],
   "source": [
    "pd.options.display.max_columns = 200"
   ]
  },
  {
   "cell_type": "code",
   "execution_count": 3,
   "metadata": {},
   "outputs": [],
   "source": [
    "pd.options.display.max_rows = 4000"
   ]
  },
  {
   "cell_type": "code",
   "execution_count": 4,
   "metadata": {},
   "outputs": [],
   "source": [
    "os.chdir(\"/Users/JuanJose/Library/CloudStorage/GoogleDrive-j.rincon@econometria.com/Mi unidad/Libro Niñez DS\")\n"
   ]
  },
  {
   "cell_type": "markdown",
   "metadata": {},
   "source": [
    "Se arregla un archivo que tiene un formato diferente, para poderlo incluir en el loop de manera facil"
   ]
  },
  {
   "cell_type": "code",
   "execution_count": 5,
   "metadata": {},
   "outputs": [],
   "source": [
    "p2015_1 =  pd.read_csv('Resultados Saber11/SB11_2015_1.csv',delimiter=',', low_memory=False)\n",
    "p2015_1.columns = list(map(str.upper,p2015_1.columns))\n",
    "p2015_1.to_csv('Resultados Saber11/SB11_20151.csv',sep=';')"
   ]
  },
  {
   "cell_type": "markdown",
   "metadata": {},
   "source": [
    "Se carga la base de datos de la población de 5-16 años por municipio por año "
   ]
  },
  {
   "cell_type": "code",
   "execution_count": 6,
   "metadata": {},
   "outputs": [],
   "source": [
    "MEN_Poblacion_5_16 = pd.read_csv(\"datos educacion media/MEN_Poblacion_5_16.csv\")"
   ]
  },
  {
   "cell_type": "markdown",
   "metadata": {},
   "source": [
    "Se establecen los directorios y la estructura de las bases de datos"
   ]
  },
  {
   "cell_type": "code",
   "execution_count": 7,
   "metadata": {},
   "outputs": [],
   "source": [
    "Icfes = {'p2011_1': {'dir':'Resultados Saber11/SB11_20111.csv','df':[],\"AÑO\":2011},\n",
    "         'p2011_2': {'dir':'Resultados Saber11/SB11_20112.csv','df':[],\"AÑO\":2011},\n",
    "         'p2012_1': {'dir':'Resultados Saber11/SB11_20121.csv','df':[],\"AÑO\":2012},\n",
    "         'p2012_2': {'dir':'Resultados Saber11/SB11_20122.csv','df':[],\"AÑO\":2012},\n",
    "         'p2013_1': {'dir':'Resultados Saber11/SB11_20131.csv','df':[],\"AÑO\":2013},\n",
    "         'p2013_2': {'dir':'Resultados Saber11/SB11_20132.csv','df':[],\"AÑO\":2013},\n",
    "         'p2014_1': {'dir':'Resultados Saber11/SB11_20141.csv','df':[],\"AÑO\":2014},\n",
    "         'p2014_2': {'dir':'Resultados Saber11/SB11_20142.csv','df':[],\"AÑO\":2014},\n",
    "         'p2015_1': {'dir':'Resultados Saber11/SB11_20151.csv','df':[],\"AÑO\":2015},\n",
    "         'p2015_2': {'dir':'Resultados Saber11/SB11_20152.csv','df':[],\"AÑO\":2015},\n",
    "         'p2016_1': {'dir':'Resultados Saber11/SB11_20161.csv','df':[],\"AÑO\":2016},\n",
    "         'p2016_2': {'dir':'Resultados Saber11/SB11_20162.csv','df':[],\"AÑO\":2016},\n",
    "         'p2017_1': {'dir':'Resultados Saber11/SB11_20171.csv','df':[],\"AÑO\":2017},\n",
    "         'p2017_2': {'dir':'Resultados Saber11/SB11_20172.csv','df':[],\"AÑO\":2017},\n",
    "         'p2018_1': {'dir':'Resultados Saber11/SB11_20181.csv','df':[],\"AÑO\":2018},\n",
    "         'p2018_2': {'dir':'Resultados Saber11/SB11_20182.csv','df':[],\"AÑO\":2018},\n",
    "         'p2019': {'dir':'Resultados Saber11/SB11_20192.csv','df':[],\"AÑO\":2019},\n",
    "         'p2020_1': {'dir':'Resultados Saber11/SB11_20201.csv','df':[],\"AÑO\":2020},\n",
    "         'p2020_2': {'dir':'Resultados Saber11/SB11_20202.csv','df':[],\"AÑO\":2020},\n",
    "         'p2021_1': {'dir':'Resultados Saber11/SB11_20211.csv','df':[],\"AÑO\":2021},\n",
    "         'p2021_2': {'dir':'Resultados Saber11/SB11_20212.csv','df':[],\"AÑO\":2021},\n",
    "        }"
   ]
  },
  {
   "cell_type": "markdown",
   "metadata": {},
   "source": [
    "Se importan y limpian los datos en dos loops, 1 para los resultados del icfes antes del cambio del puntaje global en el 2014-2, y el 2 para los resultados despues de este cambio"
   ]
  },
  {
   "cell_type": "code",
   "execution_count": 8,
   "metadata": {},
   "outputs": [
    {
     "name": "stdout",
     "output_type": "stream",
     "text": [
      "p2011_1\n",
      "p2011_2\n",
      "p2012_1\n",
      "p2012_2\n",
      "p2013_1\n",
      "p2013_2\n",
      "p2014_1\n",
      "p2014_2\n",
      "p2015_1\n",
      "p2015_2\n",
      "p2016_1\n",
      "p2016_2\n",
      "p2017_1\n",
      "p2017_2\n",
      "p2018_1\n",
      "p2018_2\n",
      "p2019\n",
      "p2020_1\n",
      "p2020_2\n",
      "p2021_1\n",
      "p2021_2\n"
     ]
    }
   ],
   "source": [
    "for key in Icfes.keys():\n",
    "    if key in ['p2011_1','p2011_2','p2012_1','p2012_2','p2013_1','p2013_2','p2014_1']:\n",
    "        Icfes[key][\"df\"] =  pd.read_csv(\n",
    "            Icfes[key][\"dir\"],delimiter=';',\n",
    "            usecols= [\"COLE_DEPTO_UBICACION\",\"COLE_COD_DEPTO_UBICACION\",\"COLE_MCPIO_UBICACION\",\n",
    "                      \"COLE_COD_MCPIO_UBICACION\",'PUNT_MATEMATICAS','PUNT_INGLES','PUNT_CIENCIAS_SOCIALES',\n",
    "                      'PUNT_BIOLOGIA','PUNT_FILOSOFIA','PUNT_FISICA','PUNT_QUIMICA','PUNT_LENGUAJE',\n",
    "                      'COLE_NATURALEZA','COLE_JORNADA',\"ESTU_COD_RESIDE_MCPIO\"],\n",
    "            dtype = {\"COLE_DEPTO_UBICACION\":\"str\",\"COLE_MCPIO_UBICACION\":\"str\",'PUNT_MATEMATICAS':\"str\",\n",
    "                     'PUNT_INGLES':\"str\",'PUNT_CIENCIAS_SOCIALES':\"str\",'PUNT_BIOLOGIA':\"str\",\n",
    "                     'PUNT_FILOSOFIA':\"str\",'PUNT_FISICA':\"str\",'PUNT_QUIMICA':\"str\",'PUNT_LENGUAJE':\"str\",\n",
    "                     'COLE_NATURALEZA':\"str\",'COLE_JORNADA':\"str\"},low_memory=False )\n",
    "        \n",
    "        Icfes[key][\"df\"].columns = list(map(str.upper,Icfes[key][\"df\"].columns))\n",
    "        \n",
    "        Icfes[key][\"df\"].rename(columns = {'COLE_DEPTO_UBICACION':'DEPTO','COLE_MCPIO_UBICACION':'MUNICIPIO',\n",
    "                                           \"COLE_COD_DEPTO_UBICACION\":'COD_DEPTO',\n",
    "                                           'ESTU_COD_RESIDE_MCPIO':'COD_MUN_ESTU',\n",
    "                                           'COLE_COD_MCPIO_UBICACION':'COD_MUN_COLE'}, inplace = True)\n",
    "        \n",
    "        Icfes[key][\"df\"] = Icfes[key][\"df\"].assign(\n",
    "            PUNT_MATEMATICAS = pd.to_numeric(Icfes[key][\"df\"].PUNT_MATEMATICAS.str.replace(',', '.')),\n",
    "            PUNT_LENGUAJE = pd.to_numeric(Icfes[key][\"df\"].PUNT_LENGUAJE.str.replace(',', '.')),\n",
    "            PUNT_INGLES = pd.to_numeric(Icfes[key][\"df\"].PUNT_INGLES.str.replace(',', '.')),\n",
    "            PUNT_CIENCIAS_SOCIALES = \n",
    "            pd.to_numeric(Icfes[key][\"df\"].PUNT_CIENCIAS_SOCIALES.str.replace(',', '.')),\n",
    "            PUNT_FISICA = pd.to_numeric(Icfes[key][\"df\"].PUNT_FISICA.str.replace(',', '.')),\n",
    "            PUNT_QUIMICA = pd.to_numeric(Icfes[key][\"df\"].PUNT_QUIMICA.str.replace(',', '.')),\n",
    "            PUNT_BIOLOGIA = pd.to_numeric(Icfes[key][\"df\"].PUNT_BIOLOGIA.str.replace(',', '.')),\n",
    "            PUNT_FILOSOFIA = pd.to_numeric(Icfes[key][\"df\"].PUNT_FILOSOFIA.str.replace(',', '.')) )\n",
    "        \n",
    "        Icfes[key][\"df\"] = Icfes[key][\"df\"].assign(\n",
    "            PUNT_MATEMATICAS_STD = preprocessing.scale(Icfes[key][\"df\"].PUNT_MATEMATICAS),\n",
    "            PUNT_LENGUAJE_STD = preprocessing.scale(Icfes[key][\"df\"].PUNT_LENGUAJE),\n",
    "            PUNT_INGLES_STD = preprocessing.scale(Icfes[key][\"df\"].PUNT_INGLES),\n",
    "            PUNT_CIENCIAS_SOCIALES_STD = preprocessing.scale(Icfes[key][\"df\"].PUNT_CIENCIAS_SOCIALES),\n",
    "            PUNT_FISICA_STD = preprocessing.scale(Icfes[key][\"df\"].PUNT_FISICA),\n",
    "            PUNT_QUIMICA_STD = preprocessing.scale(Icfes[key][\"df\"].PUNT_QUIMICA),\n",
    "            PUNT_BIOLOGIA_STD = preprocessing.scale(Icfes[key][\"df\"].PUNT_BIOLOGIA),\n",
    "            PUNT_FILOSOFIA_STD = preprocessing.scale(Icfes[key][\"df\"].PUNT_FILOSOFIA) )\n",
    "        \n",
    "        Icfes[key][\"df\"] = Icfes[key][\"df\"].assign(\n",
    "            PUNT_GLOBAL_100 = (Icfes[key][\"df\"].PUNT_QUIMICA+Icfes[key][\"df\"].PUNT_BIOLOGIA+\n",
    "                               Icfes[key][\"df\"].PUNT_FISICA+(Icfes[key][\"df\"].PUNT_CIENCIAS_SOCIALES*2)+\n",
    "                               Icfes[key][\"df\"].PUNT_FILOSOFIA+(Icfes[key][\"df\"].PUNT_LENGUAJE*3)+\n",
    "                               (Icfes[key][\"df\"].PUNT_MATEMATICAS*3)+Icfes[key][\"df\"].PUNT_INGLES)/13,\n",
    "            PUNT_GLOBAL_500 = ((Icfes[key][\"df\"].PUNT_QUIMICA+Icfes[key][\"df\"].PUNT_BIOLOGIA+\n",
    "                                Icfes[key][\"df\"].PUNT_FISICA+(Icfes[key][\"df\"].PUNT_CIENCIAS_SOCIALES*2)+\n",
    "                                Icfes[key][\"df\"].PUNT_FILOSOFIA+(Icfes[key][\"df\"].PUNT_LENGUAJE*3)+\n",
    "                                (Icfes[key][\"df\"].PUNT_MATEMATICAS*3)+Icfes[key][\"df\"].PUNT_INGLES)/13)*5,\n",
    "            PUNT_GLOBAL_STD = (Icfes[key][\"df\"].PUNT_QUIMICA_STD+Icfes[key][\"df\"].PUNT_BIOLOGIA_STD+\n",
    "                               Icfes[key][\"df\"].PUNT_FISICA_STD+(Icfes[key][\"df\"].PUNT_CIENCIAS_SOCIALES_STD*2)+\n",
    "                               Icfes[key][\"df\"].PUNT_FILOSOFIA_STD+(Icfes[key][\"df\"].PUNT_LENGUAJE_STD*3)+\n",
    "                               (Icfes[key][\"df\"].PUNT_MATEMATICAS_STD*3)+Icfes[key][\"df\"].PUNT_INGLES_STD)/13,\n",
    "            AÑO = Icfes[key][\"AÑO\"] )\n",
    "        \n",
    "    else:\n",
    "        Icfes[key][\"df\"] =  pd.read_csv(\n",
    "            Icfes[key][\"dir\"],delimiter=';',\n",
    "            usecols= [\"COLE_DEPTO_UBICACION\",\"COLE_COD_DEPTO_UBICACION\",\"COLE_MCPIO_UBICACION\",\n",
    "                      \"ESTU_COD_RESIDE_MCPIO\",'PUNT_GLOBAL','PUNT_INGLES','COLE_NATURALEZA','COLE_JORNADA',\n",
    "                      'COLE_AREA_UBICACION','COLE_COD_MCPIO_UBICACION'],\n",
    "            dtype = {\"COLE_DEPTO_UBICACION\":\"str\",\"COLE_MCPIO_UBICACION\":\"str\",'PUNT_GLOBAL':\"str\",\n",
    "                     'PUNT_INGLES':\"str\",'COLE_NATURALEZA':\"str\",'COLE_JORNADA':\"str\",\n",
    "                     'COLE_AREA_UBICACION':'str'},low_memory=False)\n",
    "\n",
    "        Icfes[key][\"df\"].columns = list(map(str.upper,Icfes[key][\"df\"].columns))\n",
    "        \n",
    "        Icfes[key][\"df\"].rename(columns = {'COLE_DEPTO_UBICACION':'DEPTO','COLE_MCPIO_UBICACION':'MUNICIPIO',\n",
    "                                           \"COLE_COD_DEPTO_UBICACION\":'COD_DEPTO',\n",
    "                                           'ESTU_COD_RESIDE_MCPIO':'COD_MUN_ESTU',\n",
    "                                           'COLE_COD_MCPIO_UBICACION':'COD_MUN_COLE'}, inplace = True)\n",
    "        \n",
    "        Icfes[key][\"df\"] = Icfes[key][\"df\"].assign(\n",
    "            PUNT_GLOBAL_500 = pd.to_numeric(Icfes[key][\"df\"].PUNT_GLOBAL.str.replace(',', '.')),\n",
    "            PUNT_INGLES = pd.to_numeric(Icfes[key][\"df\"].PUNT_INGLES.str.replace(',', '.')) )\n",
    "        \n",
    "        Icfes[key][\"df\"] = Icfes[key][\"df\"].assign(\n",
    "            PUNT_GLOBAL_STD = preprocessing.scale(Icfes[key][\"df\"].PUNT_GLOBAL_500),\n",
    "            PUNT_GLOBAL_100 = Icfes[key][\"df\"].PUNT_GLOBAL_500/5,\n",
    "            PUNT_INGLES_STD = preprocessing.scale(Icfes[key][\"df\"].PUNT_INGLES) )\n",
    "        \n",
    "        Icfes[key][\"df\"] = Icfes[key][\"df\"].assign(AÑO = Icfes[key][\"AÑO\"])\n",
    "        \n",
    "        \n",
    "    \n",
    "        \n",
    "    conditions = [\n",
    "        (Icfes[key][\"df\"][\"COD_MUN_COLE\"]==11001) | (Icfes[key][\"df\"][\"COD_MUN_ESTU\"]==11001),\n",
    "        (Icfes[key][\"df\"][\"COD_MUN_COLE\"]==5001)  | (Icfes[key][\"df\"][\"COD_MUN_ESTU\"]==5001 ),\n",
    "        (Icfes[key][\"df\"][\"COD_MUN_COLE\"]==76001) | (Icfes[key][\"df\"][\"COD_MUN_ESTU\"]==76001),\n",
    "        (Icfes[key][\"df\"][\"COD_MUN_COLE\"]==8001)  | (Icfes[key][\"df\"][\"COD_MUN_ESTU\"]==8001 ),\n",
    "        (Icfes[key][\"df\"][\"COD_MUN_COLE\"]==13001) | (Icfes[key][\"df\"][\"COD_MUN_ESTU\"]==13001),\n",
    "        (Icfes[key][\"df\"][\"COD_MUN_COLE\"]==44001) | (Icfes[key][\"df\"][\"COD_MUN_ESTU\"]==44001),\n",
    "        (Icfes[key][\"df\"][\"COD_MUN_COLE\"]==23001) | (Icfes[key][\"df\"][\"COD_MUN_ESTU\"]==23001),\n",
    "        (Icfes[key][\"df\"][\"COD_MUN_COLE\"]==47001) | (Icfes[key][\"df\"][\"COD_MUN_ESTU\"]==47001),\n",
    "        (Icfes[key][\"df\"][\"COD_MUN_COLE\"]==20001) | (Icfes[key][\"df\"][\"COD_MUN_ESTU\"]==20001),\n",
    "        (Icfes[key][\"df\"][\"COD_MUN_COLE\"]==70001) | (Icfes[key][\"df\"][\"COD_MUN_ESTU\"]==70001),\n",
    "        (Icfes[key][\"df\"][\"COD_MUN_COLE\"]==68001) | (Icfes[key][\"df\"][\"COD_MUN_ESTU\"]==68001),\n",
    "        (Icfes[key][\"df\"][\"COD_MUN_COLE\"]==54001) | (Icfes[key][\"df\"][\"COD_MUN_ESTU\"]==54001),\n",
    "        (Icfes[key][\"df\"][\"COD_MUN_COLE\"]==73001) | (Icfes[key][\"df\"][\"COD_MUN_ESTU\"]==73001),\n",
    "        (Icfes[key][\"df\"][\"COD_MUN_COLE\"]==50001) | (Icfes[key][\"df\"][\"COD_MUN_ESTU\"]==50001),\n",
    "        (Icfes[key][\"df\"][\"COD_MUN_COLE\"]==66001) | (Icfes[key][\"df\"][\"COD_MUN_ESTU\"]==66001),\n",
    "        (Icfes[key][\"df\"][\"COD_MUN_COLE\"]==17001) | (Icfes[key][\"df\"][\"COD_MUN_ESTU\"]==17001),\n",
    "        (Icfes[key][\"df\"][\"COD_MUN_COLE\"]==52001) | (Icfes[key][\"df\"][\"COD_MUN_ESTU\"]==52001) ]\n",
    "    \n",
    "    choices = [11001,5001,76001,8001,13001,44001,23001,47001,20001,\n",
    "               70001,68001,54001,73001,50001,66001,17001,52001 ]\n",
    "    \n",
    "    Icfes[key][\"df\"] = Icfes[key][\"df\"].assign( COD_MUN=np.select(conditions, choices) )\n",
    "    \n",
    "    Icfes[key][\"df\"] = Icfes[key][\"df\"].loc[\n",
    "        (Icfes[key][\"df\"]['COD_MUN'] == 11001) | (Icfes[key][\"df\"]['COD_MUN'] == 5001)  | \n",
    "        (Icfes[key][\"df\"]['COD_MUN'] == 76001) | (Icfes[key][\"df\"]['COD_MUN'] == 8001)  | \n",
    "        (Icfes[key][\"df\"]['COD_MUN'] == 13001) | (Icfes[key][\"df\"]['COD_MUN'] == 44001) | \n",
    "        (Icfes[key][\"df\"]['COD_MUN'] == 23001) | (Icfes[key][\"df\"]['COD_MUN'] == 47001) | \n",
    "        (Icfes[key][\"df\"]['COD_MUN'] == 20001) | (Icfes[key][\"df\"]['COD_MUN'] == 70001) | \n",
    "        (Icfes[key][\"df\"]['COD_MUN'] == 68001) | (Icfes[key][\"df\"]['COD_MUN'] == 54001) | \n",
    "        (Icfes[key][\"df\"]['COD_MUN'] == 73001) | (Icfes[key][\"df\"]['COD_MUN'] == 50001) | \n",
    "        (Icfes[key][\"df\"]['COD_MUN'] == 66001) | (Icfes[key][\"df\"]['COD_MUN'] == 17001) | \n",
    "        (Icfes[key][\"df\"]['COD_MUN'] == 52001) ]\n",
    "                                            \n",
    "    Icfes[key][\"df\"] = Icfes[key][\"df\"].loc[\n",
    "        (Icfes[key][\"df\"][\"COLE_JORNADA\"]!=\"SABATINA\") & (Icfes[key][\"df\"][\"COLE_JORNADA\"]!=\"NOCHE\")] \n",
    "    \n",
    "    Icfes[key][\"df\"] = Icfes[key][\"df\"][['AÑO',\"DEPTO\",\"COD_DEPTO\",\"MUNICIPIO\",\"COD_MUN\",\"PUNT_GLOBAL_500\",\n",
    "                                         'PUNT_GLOBAL_100','PUNT_GLOBAL_STD',\"PUNT_INGLES\",'PUNT_INGLES_STD',\n",
    "                                         'COLE_NATURALEZA']]\n",
    "\n",
    "\n",
    "    \n",
    "    print(key)\n",
    "\n"
   ]
  },
  {
   "cell_type": "markdown",
   "metadata": {},
   "source": [
    "Se juntan los datos de cada año, y se agrupan por tipo de ciudades"
   ]
  },
  {
   "cell_type": "code",
   "execution_count": 23,
   "metadata": {},
   "outputs": [],
   "source": [
    "ICFES=pd.concat(\n",
    "    [Icfes[\"p2011_1\"][\"df\"],Icfes[\"p2011_2\"][\"df\"],\n",
    "     Icfes[\"p2012_1\"][\"df\"],Icfes[\"p2012_2\"][\"df\"],\n",
    "     Icfes[\"p2013_1\"][\"df\"],Icfes[\"p2013_2\"][\"df\"],\n",
    "     Icfes[\"p2014_1\"][\"df\"],Icfes[\"p2014_2\"][\"df\"],\n",
    "     Icfes[\"p2015_1\"][\"df\"],Icfes[\"p2015_2\"][\"df\"],\n",
    "     Icfes[\"p2016_1\"][\"df\"],Icfes[\"p2016_2\"][\"df\"],\n",
    "     Icfes[\"p2017_1\"][\"df\"],Icfes[\"p2017_2\"][\"df\"],\n",
    "     Icfes[\"p2018_1\"][\"df\"],Icfes[\"p2018_2\"][\"df\"],\n",
    "     Icfes[\"p2019\"][\"df\"],\n",
    "     Icfes[\"p2020_1\"][\"df\"],Icfes[\"p2020_2\"][\"df\"],\n",
    "     Icfes[\"p2021_1\"][\"df\"],Icfes[\"p2021_2\"][\"df\"]\n",
    "    ])\n",
    "\n",
    "VariablesICFES=['PUNT_GLOBAL_500','PUNT_GLOBAL_100','PUNT_GLOBAL_STD','PUNT_INGLES','PUNT_INGLES_STD']"
   ]
  },
  {
   "cell_type": "markdown",
   "metadata": {},
   "source": [
    "Promedio ponderado"
   ]
  },
  {
   "cell_type": "markdown",
   "metadata": {},
   "source": [
    "Se realiza el puntaje promedio por grupo de ciudades y año para sacar la serie, el sector en el que esté el colegio <br>\n",
    "Se exportan a Excel"
   ]
  },
  {
   "cell_type": "code",
   "execution_count": 25,
   "metadata": {},
   "outputs": [],
   "source": [
    "ICFES_Total = ICFES.groupby(['COD_MUN','AÑO']).mean()\n",
    "ICFES_Total = ICFES_Total.reset_index()                 \n",
    "ICFES_Total = ICFES_Total.merge(MEN_Poblacion_5_16, on=['COD_MUN','AÑO'])\n",
    "\n",
    "conditions = [\n",
    "    (ICFES_Total['COD_MUN'] == 11001) | (ICFES_Total['COD_MUN'] == 5001) | (ICFES_Total['COD_MUN'] == 76001),\n",
    "    (ICFES_Total['COD_MUN'] == 8001),\n",
    "    (ICFES_Total['COD_MUN'] == 13001) | (ICFES_Total['COD_MUN'] == 44001) | (ICFES_Total['COD_MUN'] == 23001) |\n",
    "    (ICFES_Total['COD_MUN'] == 47001) | (ICFES_Total['COD_MUN'] == 20001) | (ICFES_Total['COD_MUN'] == 70001),\n",
    "    (ICFES_Total['COD_MUN'] == 68001) | (ICFES_Total['COD_MUN'] == 54001) | (ICFES_Total['COD_MUN'] == 73001) | \n",
    "    (ICFES_Total['COD_MUN'] == 50001) | (ICFES_Total['COD_MUN'] == 66001) | (ICFES_Total['COD_MUN'] == 17001) | \n",
    "    (ICFES_Total['COD_MUN'] == 52001)\n",
    "             ]\n",
    "\n",
    "choices = ['PRINCIPALES', 'BARRANQUILLA', 'CARIBE','OTRAS']\n",
    "ICFES_Total[\"GRUPO\"]= np.select(conditions, choices)\n",
    "\n",
    "ICFES_Total_grupos=ICFES_Total.groupby(['GRUPO','AÑO']).apply(\n",
    "    lambda x: pd.Series(np.average(x[VariablesICFES], weights=x[\"POBLACIÓN_5_16\"], axis=0),VariablesICFES))  \n"
   ]
  },
  {
   "cell_type": "code",
   "execution_count": 26,
   "metadata": {},
   "outputs": [],
   "source": [
    "ICFES_SECTOR = ICFES.groupby(['COD_MUN','AÑO','COLE_NATURALEZA']).mean()\n",
    "ICFES_SECTOR = ICFES_SECTOR.reset_index()                 \n",
    "ICFES_SECTOR = ICFES_SECTOR.merge(MEN_Poblacion_5_16, on=['COD_MUN','AÑO'])\n",
    "\n",
    "conditions = [\n",
    "    (ICFES_SECTOR['COD_MUN'] == 11001) | (ICFES_SECTOR['COD_MUN'] == 5001) | (ICFES_SECTOR['COD_MUN'] == 76001),\n",
    "    (ICFES_SECTOR['COD_MUN'] == 8001),\n",
    "    (ICFES_SECTOR['COD_MUN'] == 13001) | (ICFES_SECTOR['COD_MUN'] == 44001) | (ICFES_SECTOR['COD_MUN'] == 23001) |\n",
    "    (ICFES_SECTOR['COD_MUN'] == 47001) | (ICFES_SECTOR['COD_MUN'] == 20001) | (ICFES_SECTOR['COD_MUN'] == 70001),\n",
    "    (ICFES_SECTOR['COD_MUN'] == 68001) | (ICFES_SECTOR['COD_MUN'] == 54001) | (ICFES_SECTOR['COD_MUN'] == 73001) | \n",
    "    (ICFES_SECTOR['COD_MUN'] == 50001) | (ICFES_SECTOR['COD_MUN'] == 66001) | (ICFES_SECTOR['COD_MUN'] == 17001) | \n",
    "    (ICFES_SECTOR['COD_MUN'] == 52001)\n",
    "             ]\n",
    "\n",
    "choices = ['PRINCIPALES', 'BARRANQUILLA', 'CARIBE','OTRAS']\n",
    "ICFES_SECTOR[\"GRUPO\"]= np.select(conditions, choices)\n",
    "\n",
    "ICFES_SECTOR_grupos=ICFES_SECTOR.groupby(['COLE_NATURALEZA','GRUPO','AÑO']).apply(\n",
    "    lambda x: pd.Series(np.average(x[VariablesICFES], weights=x[\"POBLACIÓN_5_16\"], axis=0),VariablesICFES))  \n"
   ]
  },
  {
   "cell_type": "code",
   "execution_count": 27,
   "metadata": {},
   "outputs": [],
   "source": [
    "ICFES_SECTOR=ICFES_SECTOR.sort_values(by=['COLE_NATURALEZA','GRUPO','COD_MUN','AÑO'])\n",
    "ICFES_Total=ICFES_Total.sort_values(by=['GRUPO','COD_MUN','AÑO'])\n",
    "\n",
    "\n",
    "with pd.ExcelWriter(\"ICFES_.xlsx\") as writer:\n",
    "    \n",
    "    ICFES_Total_grupos.to_excel(writer, sheet_name='Total_grupos')\n",
    "    ICFES_Total.to_excel(writer, sheet_name='Total_Municipios')\n",
    "    ICFES_SECTOR_grupos.to_excel(writer, sheet_name='SECTOR_grupos')\n",
    "    ICFES_SECTOR.to_excel(writer, sheet_name='SECTOR_Municipios')\n"
   ]
  },
  {
   "cell_type": "code",
   "execution_count": null,
   "metadata": {},
   "outputs": [],
   "source": []
  }
 ],
 "metadata": {
  "kernelspec": {
   "display_name": "Python 3 (ipykernel)",
   "language": "python",
   "name": "python3"
  },
  "language_info": {
   "codemirror_mode": {
    "name": "ipython",
    "version": 3
   },
   "file_extension": ".py",
   "mimetype": "text/x-python",
   "name": "python",
   "nbconvert_exporter": "python",
   "pygments_lexer": "ipython3",
   "version": "3.9.12"
  },
  "vscode": {
   "interpreter": {
    "hash": "31f2aee4e71d21fbe5cf8b01ff0e069b9275f58929596ceb00d14d90e3e16cd6"
   }
  }
 },
 "nbformat": 4,
 "nbformat_minor": 2
}
