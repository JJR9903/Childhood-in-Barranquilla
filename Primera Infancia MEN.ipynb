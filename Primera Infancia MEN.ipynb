{
 "cells": [
  {
   "cell_type": "markdown",
   "id": "c26fbc23",
   "metadata": {},
   "source": [
    "NAME: PRIMERA INFANCIA MEN <br>\n",
    "DESCRIPTION: data import and cleaning administrative data from Ministerio de Educación Nacional (MEN) of Colombia<br>\n",
    "PROJECT: Childhood in Barranquilla - Econometria Consultores<br>\n",
    "AUTHOR: Juan José Rincón  <br>"
   ]
  },
  {
   "cell_type": "code",
   "execution_count": 1,
   "id": "8561c708",
   "metadata": {},
   "outputs": [],
   "source": [
    "import pandas as pd\n",
    "import numpy as np\n",
    "import os\n",
    "from re import sub\n",
    "from sklearn import preprocessing\n",
    "from statistics import mean, stdev"
   ]
  },
  {
   "cell_type": "code",
   "execution_count": 2,
   "id": "bed01129",
   "metadata": {},
   "outputs": [],
   "source": [
    "pd.options.display.max_columns = 200\n",
    "pd.options.display.max_rows = 4000"
   ]
  },
  {
   "cell_type": "code",
   "execution_count": 3,
   "id": "4f1eb589",
   "metadata": {},
   "outputs": [],
   "source": [
    "os.chdir(\"/Users/JuanJose/Library/CloudStorage/GoogleDrive-j.rincon@econometria.com/Mi unidad/Libro Niñez DS\")"
   ]
  },
  {
   "cell_type": "code",
   "execution_count": 4,
   "id": "fc101842",
   "metadata": {},
   "outputs": [],
   "source": [
    "PI = pd.read_csv(\n",
    "    \"datos primera infancia/MEN_INDICADORES_PRIMERA_INFANCIA.csv\")\n",
    "\n",
    "PI.rename(columns = {\"INDICADOR 1.\\nEDUCACIÓN INICIAL ICBF\\n(Incluye Mujeres Gestantes)\":\"ICBF\",\"COD_DANE_MUNICIPIO\":\"COD_MUN\",\n",
    "                    \"INDICADOR 2.\\nNIÑOS Y NIÑAS EN PREESCOLAR CON EDUCACIÓN INICIAL\":\"MEN\",\"INDICADOR 3.\\nTOTAL EDUCACIÓN INICIAL\\nICBF + MEN\":\"ICBF+MEN\"}, inplace = True)\n",
    "\n",
    "PI=PI.loc[(PI['FECHA_CORTE']!=\"31-03-2021\") & (PI['FECHA_CORTE']!=\"30-06-2021\") & (PI['FECHA_CORTE']!=\"30-09-2021\")]\n",
    "\n",
    "PI = PI.assign( AÑO = pd.to_numeric(PI.FECHA_CORTE.str[-4:]),\n",
    "                ICBF = pd.to_numeric(PI.ICBF.str.replace(',', ''))  )\n",
    " "
   ]
  },
  {
   "cell_type": "code",
   "execution_count": 5,
   "id": "f9979869",
   "metadata": {},
   "outputs": [],
   "source": [
    "PI = PI.loc[(PI['COD_MUN'] == 11001) | (PI['COD_MUN'] == 5001)  | (PI['COD_MUN'] == 76001) |\n",
    "              (PI['COD_MUN'] == 8001)  | (PI['COD_MUN'] == 13001) | (PI['COD_MUN'] == 44001) | \n",
    "              (PI['COD_MUN'] == 23001) | (PI['COD_MUN'] == 47001) | (PI['COD_MUN'] == 20001) | \n",
    "              (PI['COD_MUN'] == 70001) | (PI['COD_MUN'] == 68001) | (PI['COD_MUN'] == 54001) | \n",
    "              (PI['COD_MUN'] == 73001) | (PI['COD_MUN'] == 50001) | (PI['COD_MUN'] == 66001) | \n",
    "              (PI['COD_MUN'] == 17001) | (PI['COD_MUN'] == 52001)]\n",
    "\n",
    "\n",
    "conditions = [(PI['COD_MUN'] == 11001) | (PI['COD_MUN'] == 5001) | (PI['COD_MUN'] == 76001),\n",
    "              (PI['COD_MUN'] == 8001),\n",
    "              (PI['COD_MUN'] == 13001) | (PI['COD_MUN'] == 44001) | (PI['COD_MUN'] == 23001) | \n",
    "              (PI['COD_MUN'] == 47001) | (PI['COD_MUN'] == 20001) | (PI['COD_MUN'] == 70001),\n",
    "              (PI['COD_MUN'] == 68001) | (PI['COD_MUN'] == 54001) | (PI['COD_MUN'] == 73001) | \n",
    "              (PI['COD_MUN'] == 50001) | (PI['COD_MUN'] == 66001) | (PI['COD_MUN'] == 17001) | \n",
    "              (PI['COD_MUN'] == 52001)\n",
    "             ]\n",
    "\n",
    "choices = ['PRINCIPALES', 'BARRANQUILLA', 'CARIBE','OTRAS']\n",
    "PI = PI.assign( GRUPO = np.select(conditions, choices) )\n"
   ]
  },
  {
   "cell_type": "code",
   "execution_count": 6,
   "id": "ab900fc2",
   "metadata": {},
   "outputs": [],
   "source": [
    "PI_Grupo=PI.groupby(['GRUPO','AÑO']).agg(\n",
    "    {'ICBF':'sum', 'MEN': 'sum', 'ICBF+MEN': 'sum'})\n",
    "\n",
    "PI=PI.sort_values(by=['GRUPO','COD_MUN','AÑO'])\n",
    "PI_Grupo=PI_Grupo.sort_values(by=['GRUPO','AÑO'])\n",
    "\n",
    "with pd.ExcelWriter(\"PrimeraIncfancia.xlsx\") as writer:\n",
    "    \n",
    "    PI.to_excel(writer, sheet_name='Municipios')\n",
    "    PI_Grupo.to_excel(writer, sheet_name='Grupos')"
   ]
  },
  {
   "cell_type": "code",
   "execution_count": null,
   "id": "59ab0c3d",
   "metadata": {},
   "outputs": [],
   "source": []
  }
 ],
 "metadata": {
  "kernelspec": {
   "display_name": "Python 3 (ipykernel)",
   "language": "python",
   "name": "python3"
  },
  "language_info": {
   "codemirror_mode": {
    "name": "ipython",
    "version": 3
   },
   "file_extension": ".py",
   "mimetype": "text/x-python",
   "name": "python",
   "nbconvert_exporter": "python",
   "pygments_lexer": "ipython3",
   "version": "3.9.12"
  }
 },
 "nbformat": 4,
 "nbformat_minor": 5
}
